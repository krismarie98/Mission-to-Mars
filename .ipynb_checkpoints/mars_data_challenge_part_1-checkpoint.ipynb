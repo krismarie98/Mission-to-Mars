{
 "cells": [
  {
   "cell_type": "code",
   "execution_count": 1,
   "id": "6058ffa0",
   "metadata": {},
   "outputs": [],
   "source": [
    "from splinter import Browser\n",
    "from bs4 import BeautifulSoup as soup\n",
    "from webdriver_manager.chrome import ChromeDriverManager\n",
    "import pandas as pd\n",
    "\n",
    "# Set up Splinter\n",
    "executable_path = {'executable_path': ChromeDriverManager().install()}\n",
    "browser = Browser('chrome', **executable_path, headless=False)\n",
    "\n",
    "# Visit the Mars Facts site\n",
    "url = 'https://redplanetscience.com/' \n",
    "browser.visit(url)\n",
    "\n",
    "html = browser.html\n",
    "html_soup = soup(html, 'html.parser')\n",
    "slide_elem = html_soup.select_one('div.list_text')"
   ]
  },
  {
   "cell_type": "code",
   "execution_count": 2,
   "id": "fa8ff5fb",
   "metadata": {},
   "outputs": [
    {
     "name": "stdout",
     "output_type": "stream",
     "text": [
      "[<div class=\"content_title\">What's Mars Solar Conjunction, and Why Does It Matter?</div>]\n"
     ]
    }
   ],
   "source": [
    "title = slide_elem('div', class_='content_title')\n",
    "print(title)\n"
   ]
  },
  {
   "cell_type": "code",
   "execution_count": 3,
   "id": "6fb0dcdd",
   "metadata": {},
   "outputs": [
    {
     "data": {
      "text/plain": [
       "'NASA spacecraft at Mars are going to be on their own for a few weeks when the Sun comes between Mars and Earth, interrupting communications.'"
      ]
     },
     "execution_count": 3,
     "metadata": {},
     "output_type": "execute_result"
    }
   ],
   "source": [
    "preview=slide_elem.find('div', class_='article_teaser_body').get_text()\n",
    "preview"
   ]
  },
  {
   "cell_type": "code",
   "execution_count": 4,
   "id": "0381cbe0",
   "metadata": {},
   "outputs": [
    {
     "data": {
      "text/plain": [
       "[{'title': \"What's Mars Solar Conjunction, and Why Does It Matter?\",\n",
       "  'preview': 'NASA spacecraft at Mars are going to be on their own for a few weeks when the Sun comes between Mars and Earth, interrupting communications.'},\n",
       " {'title': \"HiRISE Views NASA's InSight and Curiosity on Mars\",\n",
       "  'preview': 'New images taken from space offer the clearest orbital glimpse yet of InSight as well as a view of Curiosity rolling along.'},\n",
       " {'title': 'NASA Moves Forward With Campaign to Return Mars Samples to Earth',\n",
       "  'preview': 'During this next phase, the program will mature critical technologies and make critical design decisions as well as assess industry partnerships.'},\n",
       " {'title': \"NASA's Ingenuity Mars Helicopter Recharges Its Batteries in Flight\",\n",
       "  'preview': 'Headed to the Red Planet with the Perseverance rover, the pioneering helicopter is powered up for the first time in interplanetary space as part of a systems check.'},\n",
       " {'title': \"InSight's 'Mole' Team Peers into the Pit\",\n",
       "  'preview': 'Efforts to save the heat probe continue.'},\n",
       " {'title': \"8 Martian Postcards to Celebrate Curiosity's Landing Anniversary\",\n",
       "  'preview': 'The NASA rover touched down eight years ago, on Aug. 5, 2012, and will soon be joined by a second rover, Perseverance.'},\n",
       " {'title': \"NASA InSight's 'Mole' Is Out of Sight\",\n",
       "  'preview': \"Now that the heat probe is just below the Martian surface, InSight's arm will scoop some additional soil on top to help it keep digging so it can take Mars' temperature.\"},\n",
       " {'title': \"NASA's Mars 2020 Rover Tests Descent-Stage Separation\",\n",
       "  'preview': \"A crane lifts the rocket-powered descent stage away from NASA's Mars 2020 rover after technicians tested the pyrotechnic charges that separate the two spacecraft.\"},\n",
       " {'title': 'Two Rovers to Roll on Mars Again: Curiosity and Mars 2020',\n",
       "  'preview': 'They look like twins. But under the hood, the rover currently exploring the Red Planet and the one launching there this summer have distinct science tools and roles to play.'},\n",
       " {'title': 'NASA Adds Return Sample Scientists to Mars 2020 Leadership Team',\n",
       "  'preview': 'The leadership council for Mars 2020 science added two new members who represent the interests of scientists destined to handle and study the first samples from Red Planet.'},\n",
       " {'title': \"NASA's Mars Reconnaissance Orbiter Undergoes Memory Update\",\n",
       "  'preview': 'Other orbiters will continue relaying data from Mars surface missions for a two-week period.'},\n",
       " {'title': \"NASA's New Mars Rover Is Ready for Space Lasers\",\n",
       "  'preview': 'Perseverance is one of a few Mars spacecraft carrying laser retroreflectors. The devices could provide new science and safer Mars landings in the future.'},\n",
       " {'title': '7 Things to Know About the Mars 2020 Perseverance Rover Mission',\n",
       "  'preview': \"NASA's next rover to the Red Planet is slated to launch no earlier than July 30. These highlights will get you up to speed on the ambitious mission.\"},\n",
       " {'title': 'NASA Prepares for Moon and Mars With New Addition to Its Deep Space Network',\n",
       "  'preview': 'Robotic spacecraft will be able to communicate with the dish using radio waves and lasers.'},\n",
       " {'title': \"How NASA's Mars Helicopter Will Reach the Red Planet's Surface\",\n",
       "  'preview': 'The small craft will seek to prove that powered, controlled flight is possible on another planet. But just getting it onto the surface of Mars will take a whole lot of ingenuity.'}]"
      ]
     },
     "execution_count": 4,
     "metadata": {},
     "output_type": "execute_result"
    }
   ],
   "source": [
    "t_p = html_soup.find_all('div', class_='list_text')\n",
    "mars_landings = []\n",
    "for x in t_p:\n",
    "    t = x.find('div', class_='content_title').text\n",
    "    preview = x.find('div', class_='article_teaser_body').text\n",
    "    mars_landing={}\n",
    "    mars_landing ['title'] = t\n",
    "    mars_landing ['preview'] =preview\n",
    "    mars_landings.append(mars_landing)\n",
    "mars_landings"
   ]
  },
  {
   "cell_type": "code",
   "execution_count": 5,
   "id": "8f2326d4",
   "metadata": {},
   "outputs": [],
   "source": [
    "mars_landings_df=pd.DataFrame(mars_landings)"
   ]
  },
  {
   "cell_type": "code",
   "execution_count": 6,
   "id": "3f51f85e",
   "metadata": {},
   "outputs": [],
   "source": [
    "mars_landings_df.to_json(\"mars_landings.json\")"
   ]
  },
  {
   "cell_type": "code",
   "execution_count": null,
   "id": "b662d484",
   "metadata": {},
   "outputs": [],
   "source": [
    "browser.quit()\n"
   ]
  },
  {
   "cell_type": "code",
   "execution_count": null,
   "id": "8bde800e",
   "metadata": {},
   "outputs": [],
   "source": []
  }
 ],
 "metadata": {
  "kernelspec": {
   "display_name": "PythonData",
   "language": "python",
   "name": "pythondata"
  },
  "language_info": {
   "codemirror_mode": {
    "name": "ipython",
    "version": 3
   },
   "file_extension": ".py",
   "mimetype": "text/x-python",
   "name": "python",
   "nbconvert_exporter": "python",
   "pygments_lexer": "ipython3",
   "version": "3.7.13"
  }
 },
 "nbformat": 4,
 "nbformat_minor": 5
}
